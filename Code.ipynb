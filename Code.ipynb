{
  "nbformat": 4,
  "nbformat_minor": 0,
  "metadata": {
    "colab": {
      "provenance": []
    },
    "kernelspec": {
      "name": "python3",
      "display_name": "Python 3"
    },
    "language_info": {
      "name": "python"
    }
  },
  "cells": [
    {
      "cell_type": "code",
      "execution_count": null,
      "metadata": {
        "id": "dfYsbR4zJovC"
      },
      "outputs": [],
      "source": [
        "from typing import List\n",
        "\n",
        "from selenium import webdriver\n",
        "from selenium.webdriver.common.by import By\n",
        "from selenium.webdriver.chrome.service import Service\n",
        "from selenium.webdriver.common.action_chains import ActionChains\n",
        "import time\n",
        "import os\n",
        "\n",
        "chrome_options = webdriver.ChromeOptions()\n",
        "prefs = {\n",
        "    'download.default_directory': r\"C:\\Users\\YOUR DIRECTORY FOR DOWNLOADING\"}\n",
        "chrome_options.add_experimental_option('prefs', prefs)\n",
        "\n",
        "os.chdir(\n",
        "    r\"C:\\Users\\YOUR DIRECTORY FOR DOWNLOADING\")\n",
        "service = Service(executable_path='/Users/YOUR PATH HERE/chromedriver')\n",
        "browser = webdriver.Chrome(service=service, options=chrome_options)\n",
        "browser.get(\n",
        "    \"https://www.vivaldi.ru/search?query=%D0%B1%D0%B8%D1%80%D0%B6%D0%B5%D0%B2%D1%8B%D0%B5%20%D0%B2%D0%B5%D0%B4%D0%BE%D0%BC%D0%BE%D1%81%D1%82%D0%B8%201905&page=18\")\n",
        "\n",
        "browser.maximize_window()\n",
        "\n",
        "path = 'C:/Users/Илья Галушко/YOUR DIRECTORY FOR DOWNLOADING'\n",
        "\n",
        "time.sleep(5)\n",
        "\n",
        "actions = ActionChains(browser)\n",
        "\n",
        "\n",
        "for i in range(1, 21):\n",
        "    documents_on_page = browser.find_elements(By.CSS_SELECTOR, \"a.document-record\")\n",
        "    documents_count = len(documents_on_page)\n",
        "    print(documents_count)\n",
        "    for a in range(0, documents_count):\n",
        "        documents_on_page = browser.find_elements(By.CSS_SELECTOR, \"a.document-record\")\n",
        "        time.sleep(2)\n",
        "        target = documents_on_page[a]\n",
        "        actions.move_to_element(target).click()\n",
        "        actions.perform()\n",
        "        time.sleep(4)\n",
        "        download = browser.find_element(By.CSS_SELECTOR, \"#main > div.document-actions > ul > li:nth-child(2) > a\")\n",
        "        source_name_code_line = browser.find_element(By.CSS_SELECTOR, \"#hang-panel > h1\")\n",
        "        source_name = source_name_code_line.text\n",
        "        download.click()\n",
        "        time.sleep(14)\n",
        "        dir_list = [os.path.join(path, x) for x in os.listdir(path)]\n",
        "        if dir_list:\n",
        "            date_list = [[x, os.path.getctime(x)] for x in dir_list]\n",
        "            sort_date_list = sorted(date_list, key=lambda x: x[1], reverse=True)\n",
        "        last_file = sort_date_list[0][0]\n",
        "        os.rename(last_file, source_name + \".pdf\")\n",
        "        browser.back()\n",
        "\n",
        "    next_page = browser.find_element(By.CSS_SELECTOR, \"#main > div.search-navigation > ul > li:nth-child(12) > a\")\n",
        "    actions.move_to_element(next_page).click()\n",
        "    actions.perform()\n",
        "    time.sleep(4)"
      ]
    }
  ]
}
